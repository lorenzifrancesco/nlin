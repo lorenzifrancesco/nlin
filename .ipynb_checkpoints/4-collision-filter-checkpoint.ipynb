{
 "cells": [
  {
   "cell_type": "markdown",
   "id": "83b47fda",
   "metadata": {},
   "source": [
    "## Collisioni di interesse\n",
    "\n",
    "Consideriamo solamente le collisioni che hanno, nell'intervallo [0, L], almeno `alpha` percentuale del loro integrale. Per calcolare questo ci appoggiamo all'approssimazione gaussiana, ed escludiamo il contributo di $\\large f_B(z)$"
   ]
  },
  {
   "cell_type": "code",
   "execution_count": 1,
   "id": "6b826b00",
   "metadata": {},
   "outputs": [
    {
     "ename": "ModuleNotFoundError",
     "evalue": "No module named 'integration'",
     "output_type": "error",
     "traceback": [
      "\u001b[0;31m---------------------------------------------------------------------------\u001b[0m",
      "\u001b[0;31mModuleNotFoundError\u001b[0m                       Traceback (most recent call last)",
      "\u001b[0;32m/tmp/ipykernel_3676/2072668710.py\u001b[0m in \u001b[0;36m<module>\u001b[0;34m\u001b[0m\n\u001b[1;32m      9\u001b[0m \u001b[0;32mimport\u001b[0m \u001b[0mscipy\u001b[0m\u001b[0;34m.\u001b[0m\u001b[0mintegrate\u001b[0m \u001b[0;32mas\u001b[0m \u001b[0mintegrate\u001b[0m\u001b[0;34m\u001b[0m\u001b[0;34m\u001b[0m\u001b[0m\n\u001b[1;32m     10\u001b[0m \u001b[0;32mfrom\u001b[0m \u001b[0mscipy\u001b[0m\u001b[0;34m.\u001b[0m\u001b[0mspecial\u001b[0m \u001b[0;32mimport\u001b[0m \u001b[0merf\u001b[0m\u001b[0;34m\u001b[0m\u001b[0;34m\u001b[0m\u001b[0m\n\u001b[0;32m---> 11\u001b[0;31m \u001b[0;32mfrom\u001b[0m \u001b[0mintegration\u001b[0m \u001b[0;32mimport\u001b[0m \u001b[0mintegrate_difference\u001b[0m\u001b[0;34m\u001b[0m\u001b[0;34m\u001b[0m\u001b[0m\n\u001b[0m\u001b[1;32m     12\u001b[0m \u001b[0;32mimport\u001b[0m \u001b[0mtime\u001b[0m\u001b[0;34m\u001b[0m\u001b[0;34m\u001b[0m\u001b[0m\n\u001b[1;32m     13\u001b[0m \u001b[0;32mfrom\u001b[0m \u001b[0mscipy\u001b[0m\u001b[0;34m.\u001b[0m\u001b[0moptimize\u001b[0m \u001b[0;32mimport\u001b[0m \u001b[0mroot_scalar\u001b[0m\u001b[0;34m\u001b[0m\u001b[0;34m\u001b[0m\u001b[0m\n",
      "\u001b[0;31mModuleNotFoundError\u001b[0m: No module named 'integration'"
     ]
    }
   ],
   "source": [
    "from sympy import * \n",
    "import matplotlib as mpl\n",
    "import matplotlib.pyplot as plt\n",
    "import matplotlib.pylab as pl\n",
    "import numpy as np\n",
    "from IPython.display import display\n",
    "import multiprocessing\n",
    "from os.path import exists\n",
    "import scipy.integrate as integrate\n",
    "from scipy.special import erf\n",
    "import time\n",
    "from scipy.optimize import root_scalar"
   ]
  },
  {
   "cell_type": "code",
   "execution_count": null,
   "id": "83698f1a",
   "metadata": {},
   "outputs": [],
   "source": [
    "t, z, beta2, Omega, m, T, T0, D = symbols('t z beta2 Omega m T T0 D')\n",
    "Dm = -m*T/Omega/T0**2\n",
    "\n",
    "params = {Omega:1000e9,    # 100GHz channel spacing\n",
    "          beta2:-20e-27,  # standard dispersion (low side)\n",
    "          T0:50e-12,    # 100ps half width 1/e power\n",
    "          T:1e-10}       # 100ps: 10GHz modulation \n",
    "\n",
    "Omega_v, beta2_v, T0_v, T_v = params.values()\n",
    "L = 100e3\n",
    "upper_end = lambda n: (n*T_v + beta2_v*Omega_v*L)/(np.sqrt(2) * T0_v * np.sqrt(1 + (- n * T_v / (Omega_v * T0_v))**2)) \n",
    "lower_end = lambda n: (n*T_v)/(np.sqrt(2) * T0_v * np.sqrt(1 + (- n * T_v / (Omega_v * T0_v))**2))\n",
    "print(upper_end(2))"
   ]
  },
  {
   "cell_type": "code",
   "execution_count": null,
   "id": "f1bf20c4",
   "metadata": {},
   "outputs": [],
   "source": [
    "def collision_quality(k, aa):\n",
    "    return (erf(lower_end(k))-erf(upper_end(k)))/2 - aa\n",
    "\n",
    "alpha = 0.1\n",
    "\n",
    "#for j in range(100):\n",
    "    #print(collision_quality(j, alpha))\n",
    "\n",
    "solution = root_scalar(lambda k: collision_quality(k, alpha), bracket = [0, 1000])\n",
    "print(solution)\n",
    "print(solution.root)"
   ]
  },
  {
   "cell_type": "code",
   "execution_count": null,
   "id": "9b9ad7a9",
   "metadata": {},
   "outputs": [],
   "source": [
    "h_plus =  (1/sqrt(1+(z*beta2/T0**2)**2)) * exp(-(m*T+beta2* Omega* z)**2/(2*T0**2*(1+(z**2*beta2**2)/(T0**4)))) \n",
    "first = diff(h_plus, z).subs(z, -m*T/(beta2*Omega))\n",
    "second = diff(diff(h_plus, z), z).subs(z, -m*T/(beta2*Omega))\n",
    "second.subs(T, T0)\n",
    "#display(h_plus)\n",
    "h_simp = (1/sqrt(1+(-m*T/(Omega * T0**2))**2)) * exp(-(m*T+beta2* Omega* z)**2/(2*T0**2*(1+(-m*T/(Omega * T0**2))**2))) \n",
    "#display(h_simp)\n",
    "instance = h_plus.subs(params)\n",
    "instance_approx = h_simp.subs(params)\n",
    "\n",
    "zm = -1 * params[T]/(params[beta2] * params[Omega])\n",
    "print(\"Inter-collision spacing: \", zm/1e3, \"km\")\n",
    "h = lambdify((z, m), instance, \"numpy\")\n",
    "h_approx = lambdify((z, m), instance_approx, \"numpy\")\n",
    "print(-params[T0]**2/params[beta2] / 1e3 , \" km\")\n",
    "\n",
    "counter = 0\n",
    "window_steps = 1\n",
    "N_collisions = int(np.ceil(solution.root))\n",
    "decimation = 1\n",
    "\n",
    "guard = 75000\n",
    "fig, ax = plt.subplots(nrows=1, ncols=1, figsize=(12, 4), dpi=80)\n",
    "p=ax\n",
    "start_collision = counter * window_steps\n",
    "\n",
    "first_zm = - start_collision * params[T] / (params[beta2] * params[Omega]) \n",
    "last_zm = - (N_collisions * decimation + start_collision) * params[T] / (params[beta2] * params[Omega])\n",
    "space = (np.array(range(0, 10000)) * (last_zm - first_zm + 2*guard)/10000) + (first_zm - guard) # sum guards before and afters\n",
    "\n",
    "print(\"From \", space[0]/1000, \"km\", \"to \", space[-1]/1000, \"km :\")\n",
    "print(\"\\tCollisions number :\", *[k*decimation + start_collision for k in range(N_collisions)], \"\\n\")\n",
    "\n",
    "for k in [k*decimation + start_collision for k in range(N_collisions)]:\n",
    "    p.plot(space/1e3, h(space, k), color=\"green\")\n",
    "    p.plot(space/1e3, h_approx(space, k), color=\"red\")\n",
    "    p.set_xlabel(\"z [km]\")\n",
    "    p.set_ylabel(\"Amplitude\")\n",
    "    #p.set_title(\"From \" + str(first_zm/zm) + \"zm to \" + str(last_zm/zm) + \"zm :\")\n",
    "    p.grid()\n",
    "    p.axvline(x = L/1e3)\n",
    "counter+=1"
   ]
  },
  {
   "cell_type": "code",
   "execution_count": null,
   "id": "3db1aeeb",
   "metadata": {},
   "outputs": [],
   "source": []
  },
  {
   "cell_type": "code",
   "execution_count": null,
   "id": "c33bf68d",
   "metadata": {},
   "outputs": [],
   "source": []
  },
  {
   "cell_type": "code",
   "execution_count": null,
   "id": "2fda2bda",
   "metadata": {},
   "outputs": [],
   "source": []
  },
  {
   "cell_type": "code",
   "execution_count": null,
   "id": "dfa32469",
   "metadata": {},
   "outputs": [],
   "source": []
  }
 ],
 "metadata": {
  "kernelspec": {
   "display_name": "Python 3.8.5 64-bit",
   "language": "python",
   "name": "python38564bit9fe83de8eeef48029ecfda4828b6da77"
  },
  "language_info": {
   "codemirror_mode": {
    "name": "ipython",
    "version": 3
   },
   "file_extension": ".py",
   "mimetype": "text/x-python",
   "name": "python",
   "nbconvert_exporter": "python",
   "pygments_lexer": "ipython3",
   "version": "3.9.7"
  }
 },
 "nbformat": 4,
 "nbformat_minor": 5
}
