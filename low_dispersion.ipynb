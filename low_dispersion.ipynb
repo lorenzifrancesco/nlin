{
 "cells": [
  {
   "cell_type": "markdown",
   "id": "0c21d1c9-a144-489e-83c5-8a0711997b3d",
   "metadata": {
    "slideshow": {
     "slide_type": "slide"
    }
   },
   "source": [
    "# Computational notebook for the NLIN+Raman problem in FMF\n"
   ]
  },
  {
   "cell_type": "markdown",
   "id": "797748ec",
   "metadata": {},
   "source": [
    "## We approximate the propagation operator by assuming a low dispersion regime\n"
   ]
  },
  {
   "cell_type": "code",
   "execution_count": 1,
   "id": "2dd5aaa8-27ce-4309-9c3a-ac0aa4c7895e",
   "metadata": {
    "slideshow": {
     "slide_type": "slide"
    }
   },
   "outputs": [],
   "source": [
    "from sympy import * \n",
    "import matplotlib as mpl\n",
    "import matplotlib.pyplot as plt\n",
    "import matplotlib.pylab as pl\n",
    "import numpy as np\n",
    "from IPython.display import display\n",
    "import multiprocessing\n",
    "from os.path import exists\n",
    "import scipy.integrate as integrate\n",
    "from scipy.special import erf\n",
    "import time\n",
    "\n",
    "t, z, beta2, Omega, m, T, T0, D = symbols('t z beta2 Omega m T T0 D')"
   ]
  },
  {
   "cell_type": "code",
   "execution_count": null,
   "metadata": {},
   "outputs": [],
   "source": []
  }
 ],
 "metadata": {
  "kernelspec": {
   "display_name": "globalenv",
   "language": "python",
   "name": "python3"
  },
  "language_info": {
   "codemirror_mode": {
    "name": "ipython",
    "version": 3
   },
   "file_extension": ".py",
   "mimetype": "text/x-python",
   "name": "python",
   "nbconvert_exporter": "python",
   "pygments_lexer": "ipython3",
   "version": "3.10.13"
  }
 },
 "nbformat": 4,
 "nbformat_minor": 5
}
